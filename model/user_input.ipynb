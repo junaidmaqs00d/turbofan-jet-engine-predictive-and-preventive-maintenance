{
 "cells": [
  {
   "cell_type": "code",
   "execution_count": 154,
   "metadata": {},
   "outputs": [],
   "source": [
    "# Importing required libraries \n",
    "import math\n",
    "import pandas as pd\n",
    "\n",
    "import numpy as np\n",
    "import seaborn as sns\n",
    "import matplotlib.pyplot as plt\n",
    "from sklearn.preprocessing import MinMaxScaler\n",
    "import h5py\n",
    "from joblib import dump\n",
    "from joblib import load\n",
    "\n",
    "from sklearn.metrics import r2_score\n",
    "from scipy import stats\n",
    "from sklearn.model_selection import GridSearchCV\n",
    "from sklearn.model_selection import train_test_split\n",
    "from sklearn.ensemble import RandomForestClassifier\n",
    "from sklearn.linear_model import LogisticRegression\n",
    "from sklearn.metrics import ConfusionMatrixDisplay\n",
    "from sklearn.metrics import confusion_matrix, accuracy_score, r2_score, roc_auc_score, precision_score, recall_score, f1_score\n",
    "\n",
    "from keras.models import Sequential\n",
    "from keras.layers import LSTM, Dense, Dropout\n",
    "from keras.models import load_model\n",
    "\n",
    "sns.set()"
   ]
  },
  {
   "cell_type": "code",
   "execution_count": 155,
   "metadata": {},
   "outputs": [],
   "source": [
    "loaded_model = load(r'D:\\University Work\\FYP\\Seleted Projects\\Predictive Maintanance\\Code Files\\Code\\random_forest_model.joblib')"
   ]
  },
  {
   "cell_type": "code",
   "execution_count": 156,
   "metadata": {},
   "outputs": [],
   "source": [
    "\n",
    "def RUL_calculator(df, df_max_cycles):\n",
    "    max_cycle = df_max_cycles[\"cycle\"]\n",
    "    result_frame = df.merge(max_cycle.to_frame(name='max_cycle'), left_on='id', right_index=True)\n",
    "    result_frame[\"RUL\"] = result_frame[\"max_cycle\"] - result_frame[\"cycle\"] \n",
    "    result_frame.drop(['max_cycle'], axis=1, inplace=True)\n",
    "    return result_frame\n"
   ]
  },
  {
   "cell_type": "code",
   "execution_count": 157,
   "metadata": {},
   "outputs": [],
   "source": [
    "\n",
    "def preprocess_data(input_data):\n",
    "    # Drop irrelevant columns, including sensor22 and sensor23\n",
    "    input_data.drop(['cycle', 'op1', 'op2', 'op3', 'sensor1', 'sensor5', 'sensor6', 'sensor10', \n",
    "                     'sensor16', 'sensor18', 'sensor19', 'sensor14', 'sensor13', 'sensor12', \n",
    "                     'sensor11', 'sensor9', 'sensor22', 'sensor23'], axis=1, inplace=True)\n",
    "    \n",
    "    # Scale the features using MinMaxScaler\n",
    "    scaler = MinMaxScaler()\n",
    "    scaled_features = scaler.fit_transform(input_data.drop(['id','RUL'], axis=1))\n",
    "    scaled_features = pd.DataFrame(scaled_features, columns=input_data.drop(['id','RUL'], axis=1).columns)\n",
    "    \n",
    "    # Add the 'id' and 'RUL' columns back to the scaled features\n",
    "    scaled_features['id'] = input_data['id']\n",
    "    scaled_features['RUL'] = input_data['RUL']\n",
    "    \n",
    "    return scaled_features\n",
    "\n",
    "\n"
   ]
  },
  {
   "cell_type": "code",
   "execution_count": 158,
   "metadata": {},
   "outputs": [],
   "source": [
    "def predict_remaining_useful_life(input_data):\n",
    "    # Preprocess the input data\n",
    "    preprocessed_data = preprocess_data(input_data)\n",
    "    \n",
    "    # Remove the RUL feature before prediction\n",
    "    preprocessed_data.drop('RUL', axis=1, inplace=True)\n",
    "    \n",
    "    # Use the trained model to predict labels\n",
    "    predicted_labels = loaded_model.predict(preprocessed_data)\n",
    "    \n",
    "    # Create a DataFrame with engine ID, predicted class, and actual RUL\n",
    "    result_df = pd.DataFrame({'Engine_ID': input_data['id'], \n",
    "                              'Predicted_Class': predicted_labels,\n",
    "                              'Actual_RUL': jet_data['RUL']})\n",
    "    \n",
    "    # Group the DataFrame by engine ID and return\n",
    "    result_grouped = result_df.groupby('Engine_ID').first().reset_index()\n",
    "    \n",
    "    return result_grouped\n"
   ]
  },
  {
   "cell_type": "code",
   "execution_count": 159,
   "metadata": {},
   "outputs": [],
   "source": [
    "\n",
    "import csv\n",
    "import os\n",
    "\n",
    "def fill_csv_with_user_input(columns, directory, filename='user_jet_data_input.csv'):\n",
    "    filepath = os.path.join(directory, filename)\n",
    "    with open(filepath, 'w', newline='') as csvfile:\n",
    "        writer = csv.writer(csvfile)\n",
    "        writer.writerow(columns)\n",
    "\n",
    "    with open(filepath, 'a', newline='') as csvfile:\n",
    "        writer = csv.writer(csvfile)\n",
    "        while True:\n",
    "            row = []\n",
    "            for col in columns:\n",
    "                value = input(f\"Enter value for {col}: \")\n",
    "                row.append(value)\n",
    "            writer.writerow(row)\n",
    "            another_entry = input(\"Do you want to enter another record? (yes/no): \")\n",
    "            if another_entry.lower() != 'yes':\n",
    "                break\n",
    "\n",
    "    print(f\"CSV file '{filename}' filled with user input successfully in directory '{directory}'.\")\n"
   ]
  },
  {
   "cell_type": "code",
   "execution_count": 160,
   "metadata": {},
   "outputs": [],
   "source": [
    "\n",
    "# Example usage:\n",
    "columns = [\"id\",\"cycle\",\"op1\",\"op2\",\"op3\",\"sensor1\",\"sensor2\",\"sensor3\",\"sensor4\",\"sensor5\"\n",
    "           ,\"sensor6\",\"sensor7\",\"sensor8\",\"sensor9\",\"sensor10\",\"sensor11\",\"sensor12\",\"sensor13\"\n",
    "           ,\"sensor14\",\"sensor15\",\"sensor16\",\"sensor17\",\"sensor18\",\"sensor19\"\n",
    "           ,\"sensor20\",\"sensor21\",\"sensor22\",\"sensor23\"]\n",
    "\n",
    "directory = r'D:\\University Work\\FYP\\Seleted Projects\\Predictive Maintanance\\Code Files\\Code'\n",
    "\n",
    "fill_csv_with_user_input(columns,directory)\n",
    "\n",
    "user_input_data = pd.read_csv(r'D:\\University Work\\FYP\\Seleted Projects\\Predictive Maintanance\\Code Files\\Code\\user_jet_data_input.csv')  # Modify this line as needed\n",
    "\n",
    "jet_id_and_rul = user_input_data.groupby(['id'])[[\"id\" ,\"cycle\"]].max()\n",
    "jet_id_and_rul.set_index('id', inplace=True)\n",
    "jet_data = RUL_calculator(user_input_data, jet_id_and_rul)\n"
   ]
  },
  {
   "cell_type": "code",
   "execution_count": 161,
   "metadata": {},
   "outputs": [
    {
     "name": "stdout",
     "output_type": "stream",
     "text": [
      "Predicted Remaining Useful Life (RUL) for the input data:\n"
     ]
    },
    {
     "data": {
      "text/html": [
       "<div>\n",
       "<style scoped>\n",
       "    .dataframe tbody tr th:only-of-type {\n",
       "        vertical-align: middle;\n",
       "    }\n",
       "\n",
       "    .dataframe tbody tr th {\n",
       "        vertical-align: top;\n",
       "    }\n",
       "\n",
       "    .dataframe thead th {\n",
       "        text-align: right;\n",
       "    }\n",
       "</style>\n",
       "<table border=\"1\" class=\"dataframe\">\n",
       "  <thead>\n",
       "    <tr style=\"text-align: right;\">\n",
       "      <th></th>\n",
       "      <th>Engine_ID</th>\n",
       "      <th>Predicted_Class</th>\n",
       "      <th>Actual_RUL</th>\n",
       "    </tr>\n",
       "  </thead>\n",
       "  <tbody>\n",
       "    <tr>\n",
       "      <th>0</th>\n",
       "      <td>57</td>\n",
       "      <td>0</td>\n",
       "      <td>132</td>\n",
       "    </tr>\n",
       "    <tr>\n",
       "      <th>1</th>\n",
       "      <td>101</td>\n",
       "      <td>0</td>\n",
       "      <td>0</td>\n",
       "    </tr>\n",
       "  </tbody>\n",
       "</table>\n",
       "</div>"
      ],
      "text/plain": [
       "   Engine_ID  Predicted_Class  Actual_RUL\n",
       "0         57                0         132\n",
       "1        101                0           0"
      ]
     },
     "execution_count": 161,
     "metadata": {},
     "output_type": "execute_result"
    }
   ],
   "source": [
    "\n",
    "    \n",
    "# Predict the remaining useful life (RUL) using the user input data\n",
    "predicted_RUL = predict_remaining_useful_life(jet_data)\n",
    "    \n",
    "# Display or use the predicted RUL as needed\n",
    "print(\"Predicted Remaining Useful Life (RUL) for the input data:\")\n",
    "predicted_RUL"
   ]
  }
 ],
 "metadata": {
  "kernelspec": {
   "display_name": "Python 3",
   "language": "python",
   "name": "python3"
  },
  "language_info": {
   "codemirror_mode": {
    "name": "ipython",
    "version": 3
   },
   "file_extension": ".py",
   "mimetype": "text/x-python",
   "name": "python",
   "nbconvert_exporter": "python",
   "pygments_lexer": "ipython3",
   "version": "3.11.7"
  }
 },
 "nbformat": 4,
 "nbformat_minor": 2
}
